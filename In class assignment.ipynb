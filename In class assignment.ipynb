{
 "cells": [
  {
   "cell_type": "code",
   "execution_count": 1,
   "metadata": {},
   "outputs": [
    {
     "name": "stdout",
     "output_type": "stream",
     "text": [
      "(506, 13)\n"
     ]
    }
   ],
   "source": [
    "from sklearn.datasets import load_boston\n",
    "import numpy as np\n",
    "import mpl_toolkits.mplot3d\n",
    "from matplotlib import pyplot as plt\n",
    "samples,labels = load_boston(return_X_y=True)\n",
    "X = samples\n",
    "print (X.shape)\n",
    "\n"
   ]
  },
  {
   "cell_type": "code",
   "execution_count": 2,
   "metadata": {},
   "outputs": [
    {
     "name": "stdout",
     "output_type": "stream",
     "text": [
      "(506, 14)\n",
      "(14,)\n"
     ]
    }
   ],
   "source": [
    "X= np.concatenate((X,np.ones((len(X),1))), axis = 1)\n",
    "w= np.linalg.inv(X.T@X)@(X.T)@labels\n",
    "\n",
    "print (X.shape)\n",
    "print (w.shape)\n",
    "\n",
    "\n"
   ]
  },
  {
   "cell_type": "code",
   "execution_count": 3,
   "metadata": {},
   "outputs": [
    {
     "name": "stdout",
     "output_type": "stream",
     "text": [
      "Least Squares Error:  2.800497878033797\n"
     ]
    }
   ],
   "source": [
    "y_prime = X@w\n",
    "error = np.linalg.norm((labels - y_prime)**2/X.shape[0])\n",
    "print(\"Least Squares Error: \", error)"
   ]
  },
  {
   "cell_type": "markdown",
   "metadata": {},
   "source": [
    "# Cross Validation"
   ]
  },
  {
   "cell_type": "code",
   "execution_count": 4,
   "metadata": {},
   "outputs": [
    {
     "ename": "ValueError",
     "evalue": "all the input array dimensions except for the concatenation axis must match exactly",
     "output_type": "error",
     "traceback": [
      "\u001b[1;31m---------------------------------------------------------------------------\u001b[0m",
      "\u001b[1;31mValueError\u001b[0m                                Traceback (most recent call last)",
      "\u001b[1;32m<ipython-input-4-f5de63d7f301>\u001b[0m in \u001b[0;36m<module>\u001b[1;34m()\u001b[0m\n\u001b[0;32m     49\u001b[0m     \u001b[1;32mreturn\u001b[0m \u001b[0my_hat\u001b[0m\u001b[1;33m,\u001b[0m \u001b[0my_measured\u001b[0m\u001b[1;33m,\u001b[0m \u001b[0mavg_error\u001b[0m\u001b[1;33m\u001b[0m\u001b[0m\n\u001b[0;32m     50\u001b[0m \u001b[1;33m\u001b[0m\u001b[0m\n\u001b[1;32m---> 51\u001b[1;33m \u001b[0my_hat\u001b[0m\u001b[1;33m,\u001b[0m\u001b[0my_measured\u001b[0m\u001b[1;33m,\u001b[0m\u001b[0mavg_error\u001b[0m \u001b[1;33m=\u001b[0m \u001b[0mK_fold_CV\u001b[0m\u001b[1;33m(\u001b[0m\u001b[1;33m)\u001b[0m\u001b[1;33m\u001b[0m\u001b[0m\n\u001b[0m\u001b[0;32m     52\u001b[0m \u001b[1;33m\u001b[0m\u001b[0m\n\u001b[0;32m     53\u001b[0m \u001b[1;32mfor\u001b[0m \u001b[0mi\u001b[0m \u001b[1;32min\u001b[0m \u001b[0mrange\u001b[0m\u001b[1;33m(\u001b[0m\u001b[0mlen\u001b[0m\u001b[1;33m(\u001b[0m\u001b[0my_hat\u001b[0m\u001b[1;33m)\u001b[0m\u001b[1;33m)\u001b[0m\u001b[1;33m:\u001b[0m\u001b[1;33m\u001b[0m\u001b[0m\n",
      "\u001b[1;32m<ipython-input-4-f5de63d7f301>\u001b[0m in \u001b[0;36mK_fold_CV\u001b[1;34m()\u001b[0m\n\u001b[0;32m     17\u001b[0m     \u001b[0mtraining_data_2\u001b[0m \u001b[1;33m=\u001b[0m \u001b[0mnp\u001b[0m\u001b[1;33m.\u001b[0m\u001b[0mvstack\u001b[0m\u001b[1;33m(\u001b[0m\u001b[1;33m(\u001b[0m\u001b[0mX\u001b[0m\u001b[1;33m[\u001b[0m\u001b[1;36m0\u001b[0m\u001b[1;33m:\u001b[0m\u001b[1;36m101\u001b[0m\u001b[1;33m]\u001b[0m\u001b[1;33m,\u001b[0m\u001b[0mX\u001b[0m\u001b[1;33m[\u001b[0m\u001b[1;36m202\u001b[0m\u001b[1;33m:\u001b[0m\u001b[1;33m]\u001b[0m\u001b[1;33m)\u001b[0m\u001b[1;33m)\u001b[0m\u001b[1;33m\u001b[0m\u001b[0m\n\u001b[0;32m     18\u001b[0m     \u001b[0mtesting_labels_2\u001b[0m \u001b[1;33m=\u001b[0m \u001b[0mlabels\u001b[0m\u001b[1;33m[\u001b[0m\u001b[1;36m101\u001b[0m\u001b[1;33m:\u001b[0m\u001b[1;36m202\u001b[0m\u001b[1;33m]\u001b[0m\u001b[1;33m\u001b[0m\u001b[0m\n\u001b[1;32m---> 19\u001b[1;33m     \u001b[0mtraining_labels_2\u001b[0m \u001b[1;33m=\u001b[0m \u001b[0mnp\u001b[0m\u001b[1;33m.\u001b[0m\u001b[0mvstack\u001b[0m\u001b[1;33m(\u001b[0m\u001b[1;33m(\u001b[0m\u001b[0mlabels\u001b[0m\u001b[1;33m[\u001b[0m\u001b[1;36m0\u001b[0m\u001b[1;33m:\u001b[0m\u001b[1;36m101\u001b[0m\u001b[1;33m]\u001b[0m\u001b[1;33m,\u001b[0m\u001b[0mlabels\u001b[0m\u001b[1;33m[\u001b[0m\u001b[1;36m202\u001b[0m\u001b[1;33m:\u001b[0m\u001b[1;33m]\u001b[0m\u001b[1;33m)\u001b[0m\u001b[1;33m)\u001b[0m\u001b[1;33m\u001b[0m\u001b[0m\n\u001b[0m\u001b[0;32m     20\u001b[0m \u001b[1;33m\u001b[0m\u001b[0m\n\u001b[0;32m     21\u001b[0m     \u001b[0mtesting_data_3\u001b[0m \u001b[1;33m=\u001b[0m \u001b[0mX\u001b[0m\u001b[1;33m[\u001b[0m\u001b[1;36m202\u001b[0m\u001b[1;33m:\u001b[0m\u001b[1;36m303\u001b[0m\u001b[1;33m]\u001b[0m\u001b[1;33m\u001b[0m\u001b[0m\n",
      "\u001b[1;32m~\\Anaconda3\\lib\\site-packages\\numpy\\core\\shape_base.py\u001b[0m in \u001b[0;36mvstack\u001b[1;34m(tup)\u001b[0m\n\u001b[0;32m    232\u001b[0m \u001b[1;33m\u001b[0m\u001b[0m\n\u001b[0;32m    233\u001b[0m     \"\"\"\n\u001b[1;32m--> 234\u001b[1;33m     \u001b[1;32mreturn\u001b[0m \u001b[0m_nx\u001b[0m\u001b[1;33m.\u001b[0m\u001b[0mconcatenate\u001b[0m\u001b[1;33m(\u001b[0m\u001b[1;33m[\u001b[0m\u001b[0matleast_2d\u001b[0m\u001b[1;33m(\u001b[0m\u001b[0m_m\u001b[0m\u001b[1;33m)\u001b[0m \u001b[1;32mfor\u001b[0m \u001b[0m_m\u001b[0m \u001b[1;32min\u001b[0m \u001b[0mtup\u001b[0m\u001b[1;33m]\u001b[0m\u001b[1;33m,\u001b[0m \u001b[1;36m0\u001b[0m\u001b[1;33m)\u001b[0m\u001b[1;33m\u001b[0m\u001b[0m\n\u001b[0m\u001b[0;32m    235\u001b[0m \u001b[1;33m\u001b[0m\u001b[0m\n\u001b[0;32m    236\u001b[0m \u001b[1;32mdef\u001b[0m \u001b[0mhstack\u001b[0m\u001b[1;33m(\u001b[0m\u001b[0mtup\u001b[0m\u001b[1;33m)\u001b[0m\u001b[1;33m:\u001b[0m\u001b[1;33m\u001b[0m\u001b[0m\n",
      "\u001b[1;31mValueError\u001b[0m: all the input array dimensions except for the concatenation axis must match exactly"
     ]
    }
   ],
   "source": [
    "def least_squares(training_data,training_labels,testing_data):\n",
    "    X=training_data;labels=training_labels\n",
    "    X= np.concatenate((X,np.ones(X.shape[0],1)), axis = 1)\n",
    "    w= np.linalg.inv(X.T@X)@(X.T)@labels\n",
    "    y_hat = testing_data@w\n",
    "    y_prime = X@w\n",
    "    error = np.linalg.norm((labels - y_prime)**2/X.shape[0])\n",
    "    return (np.matmul(w, labels),error,y_hat)\n",
    "\n",
    "def K_fold_CV():\n",
    "    testing_data_1 = X[0:101]\n",
    "    training_data_1 = X[101:]\n",
    "    testing_labels_1 = labels[0:101]\n",
    "    training_labels_1 = labels[101:]\n",
    "\n",
    "    testing_data_2 = X[101:202]\n",
    "    training_data_2 = np.vstack((X[0:101],X[202:]))\n",
    "    testing_labels_2 = labels[101:202]\n",
    "    training_labels_2 = np.vstack((labels[0:101],labels[202:]))\n",
    "\n",
    "    testing_data_3 = X[202:303]\n",
    "    training_data_3 = np.vstack((X[0:202],X[303:]))\n",
    "    testing_labels_3 = labels[202:303]\n",
    "    training_labels_3 = np.vstack((labels[0:202],labels[303:]))\n",
    "\n",
    "    testing_data_4 = X[303:404]\n",
    "    training_data_4 = np.vstack((X[0:303],X[404:]))\n",
    "    testing_labels_4 = labels[303:404]\n",
    "    training_labels_4 = np.vstack((labels[0:303],labels[404:]))\n",
    "\n",
    "    testing_data_5 = X[404:],\n",
    "    training_data_5 = X[0:404]\n",
    "    testing_labels_5 = labels[101:202]\n",
    "    training_labels_5 = np.vstack((labels[0:101],labels[202:]))\n",
    "\n",
    "\n",
    "    for i in range(1,6):\n",
    "        w[i],e[i],y_hat[i] = least_squares(training_data_[i],training_labels_[i],testing_data_[i])\n",
    "    \n",
    "    for i in range(1,6):\n",
    "        y_measured = [testing_labels_[i]]\n",
    "        \n",
    "    for i in range(1,6):\n",
    "        error[i] = la.norm(y_hat[i] - testing_labels_[i])**2/testing_labels_[i].shape[0]\n",
    "        print(\"error: \",error[i])\n",
    "        avg_error = error[i]/5\n",
    "        print(\"Average Prediction Error is: \",avg_error)\n",
    "    \n",
    "    return y_hat, y_measured, avg_error\n",
    "\n",
    "y_hat,y_measured,avg_error = K_fold_CV()\n",
    "\n",
    "for i in range(len(y_hat)):\n",
    "    ax.plot(np.arange(y_measured[i].shape[0]),np.arange(y_measured[i].shape[0]),c='r')\n",
    "    ax.scatter(y_hat[i],y_hat[i],c='b',marker='o')\n",
    "    plt.title('Measured vs Predicted')\n",
    "    plt.xlabel('Measured')\n",
    "    plt.ylabel('Predicted')\n",
    "    \n",
    "plt.show()"
   ]
  },
  {
   "cell_type": "markdown",
   "metadata": {},
   "source": [
    "#  ridge regression"
   ]
  },
  {
   "cell_type": "code",
   "execution_count": null,
   "metadata": {},
   "outputs": [],
   "source": []
  }
 ],
 "metadata": {
  "kernelspec": {
   "display_name": "Python 3",
   "language": "python",
   "name": "python3"
  },
  "language_info": {
   "codemirror_mode": {
    "name": "ipython",
    "version": 3
   },
   "file_extension": ".py",
   "mimetype": "text/x-python",
   "name": "python",
   "nbconvert_exporter": "python",
   "pygments_lexer": "ipython3",
   "version": "3.6.5"
  }
 },
 "nbformat": 4,
 "nbformat_minor": 2
}
